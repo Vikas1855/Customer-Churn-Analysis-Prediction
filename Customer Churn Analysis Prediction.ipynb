{
 "cells": [
  {
   "cell_type": "markdown",
   "id": "73ce05b6",
   "metadata": {},
   "source": [
    "Customer Churn\n",
    "\n",
    "It is when an existing customer, user, subscriber, or any kind of return client stops doing business or ends the relationship with a company.\n",
    "\n",
    "\n",
    "Types of Customer Churn –\n",
    "\n",
    "\n",
    "Contractual Churn : When a customer is under a contract for a service and decides to cancel the service e.g. Cable TV, SaaS.\n",
    "\n",
    "Voluntary Churn : When a user voluntarily cancels a service e.g. Cellular connection.\n",
    "Non-Contractual Churn : When a customer is not under a contract for a service and decides to cancel the service e.g. Consumer Loyalty in retail stores.\n",
    "Involuntary Churn : When a churn occurs without any request of the customer e.g. Credit card expiration."
   ]
  },
  {
   "cell_type": "markdown",
   "id": "08ef9fb9",
   "metadata": {},
   "source": [
    "Reasons for Voluntary Churn\n",
    "\n",
    "Lack of usage\n",
    "\n",
    "Poor service\n",
    "\n",
    "Better price"
   ]
  },
  {
   "cell_type": "code",
   "execution_count": 4,
   "id": "75b47bc6",
   "metadata": {},
   "outputs": [],
   "source": [
    "# Import required libraries \n",
    "import numpy as np \n",
    "import pandas as pd \n",
    "\n",
    "# Import the dataset \n",
    "dataset = pd.read_csv(r'C:\\Users\\HP\\OneDrive\\Desktop\\pyhton read file\\Telecom Churn.csv') \n",
    "\n",
    "\n",
    "\n",
    "\n"
   ]
  },
  {
   "cell_type": "code",
   "execution_count": 3,
   "id": "8bbbed5f",
   "metadata": {},
   "outputs": [
    {
     "data": {
      "text/html": [
       "<div>\n",
       "<style scoped>\n",
       "    .dataframe tbody tr th:only-of-type {\n",
       "        vertical-align: middle;\n",
       "    }\n",
       "\n",
       "    .dataframe tbody tr th {\n",
       "        vertical-align: top;\n",
       "    }\n",
       "\n",
       "    .dataframe thead th {\n",
       "        text-align: right;\n",
       "    }\n",
       "</style>\n",
       "<table border=\"1\" class=\"dataframe\">\n",
       "  <thead>\n",
       "    <tr style=\"text-align: right;\">\n",
       "      <th></th>\n",
       "      <th>state</th>\n",
       "      <th>account length</th>\n",
       "      <th>area code</th>\n",
       "      <th>phone number</th>\n",
       "      <th>international plan</th>\n",
       "      <th>voice mail plan</th>\n",
       "      <th>number vmail messages</th>\n",
       "      <th>total day minutes</th>\n",
       "      <th>total day calls</th>\n",
       "      <th>total day charge</th>\n",
       "      <th>...</th>\n",
       "      <th>total eve calls</th>\n",
       "      <th>total eve charge</th>\n",
       "      <th>total night minutes</th>\n",
       "      <th>total night calls</th>\n",
       "      <th>total night charge</th>\n",
       "      <th>total intl minutes</th>\n",
       "      <th>total intl calls</th>\n",
       "      <th>total intl charge</th>\n",
       "      <th>customer service calls</th>\n",
       "      <th>churn</th>\n",
       "    </tr>\n",
       "  </thead>\n",
       "  <tbody>\n",
       "    <tr>\n",
       "      <th>0</th>\n",
       "      <td>KS</td>\n",
       "      <td>128</td>\n",
       "      <td>415</td>\n",
       "      <td>382-4657</td>\n",
       "      <td>no</td>\n",
       "      <td>yes</td>\n",
       "      <td>25</td>\n",
       "      <td>265.1</td>\n",
       "      <td>110</td>\n",
       "      <td>45.07</td>\n",
       "      <td>...</td>\n",
       "      <td>99</td>\n",
       "      <td>16.78</td>\n",
       "      <td>244.7</td>\n",
       "      <td>91</td>\n",
       "      <td>11.01</td>\n",
       "      <td>10.0</td>\n",
       "      <td>3</td>\n",
       "      <td>2.70</td>\n",
       "      <td>1</td>\n",
       "      <td>False</td>\n",
       "    </tr>\n",
       "    <tr>\n",
       "      <th>1</th>\n",
       "      <td>OH</td>\n",
       "      <td>107</td>\n",
       "      <td>415</td>\n",
       "      <td>371-7191</td>\n",
       "      <td>no</td>\n",
       "      <td>yes</td>\n",
       "      <td>26</td>\n",
       "      <td>161.6</td>\n",
       "      <td>123</td>\n",
       "      <td>27.47</td>\n",
       "      <td>...</td>\n",
       "      <td>103</td>\n",
       "      <td>16.62</td>\n",
       "      <td>254.4</td>\n",
       "      <td>103</td>\n",
       "      <td>11.45</td>\n",
       "      <td>13.7</td>\n",
       "      <td>3</td>\n",
       "      <td>3.70</td>\n",
       "      <td>1</td>\n",
       "      <td>False</td>\n",
       "    </tr>\n",
       "    <tr>\n",
       "      <th>2</th>\n",
       "      <td>NJ</td>\n",
       "      <td>137</td>\n",
       "      <td>415</td>\n",
       "      <td>358-1921</td>\n",
       "      <td>no</td>\n",
       "      <td>no</td>\n",
       "      <td>0</td>\n",
       "      <td>243.4</td>\n",
       "      <td>114</td>\n",
       "      <td>41.38</td>\n",
       "      <td>...</td>\n",
       "      <td>110</td>\n",
       "      <td>10.30</td>\n",
       "      <td>162.6</td>\n",
       "      <td>104</td>\n",
       "      <td>7.32</td>\n",
       "      <td>12.2</td>\n",
       "      <td>5</td>\n",
       "      <td>3.29</td>\n",
       "      <td>0</td>\n",
       "      <td>False</td>\n",
       "    </tr>\n",
       "    <tr>\n",
       "      <th>3</th>\n",
       "      <td>OH</td>\n",
       "      <td>84</td>\n",
       "      <td>408</td>\n",
       "      <td>375-9999</td>\n",
       "      <td>yes</td>\n",
       "      <td>no</td>\n",
       "      <td>0</td>\n",
       "      <td>299.4</td>\n",
       "      <td>71</td>\n",
       "      <td>50.90</td>\n",
       "      <td>...</td>\n",
       "      <td>88</td>\n",
       "      <td>5.26</td>\n",
       "      <td>196.9</td>\n",
       "      <td>89</td>\n",
       "      <td>8.86</td>\n",
       "      <td>6.6</td>\n",
       "      <td>7</td>\n",
       "      <td>1.78</td>\n",
       "      <td>2</td>\n",
       "      <td>False</td>\n",
       "    </tr>\n",
       "    <tr>\n",
       "      <th>4</th>\n",
       "      <td>OK</td>\n",
       "      <td>75</td>\n",
       "      <td>415</td>\n",
       "      <td>330-6626</td>\n",
       "      <td>yes</td>\n",
       "      <td>no</td>\n",
       "      <td>0</td>\n",
       "      <td>166.7</td>\n",
       "      <td>113</td>\n",
       "      <td>28.34</td>\n",
       "      <td>...</td>\n",
       "      <td>122</td>\n",
       "      <td>12.61</td>\n",
       "      <td>186.9</td>\n",
       "      <td>121</td>\n",
       "      <td>8.41</td>\n",
       "      <td>10.1</td>\n",
       "      <td>3</td>\n",
       "      <td>2.73</td>\n",
       "      <td>3</td>\n",
       "      <td>False</td>\n",
       "    </tr>\n",
       "  </tbody>\n",
       "</table>\n",
       "<p>5 rows × 21 columns</p>\n",
       "</div>"
      ],
      "text/plain": [
       "  state  account length  area code phone number international plan  \\\n",
       "0    KS             128        415     382-4657                 no   \n",
       "1    OH             107        415     371-7191                 no   \n",
       "2    NJ             137        415     358-1921                 no   \n",
       "3    OH              84        408     375-9999                yes   \n",
       "4    OK              75        415     330-6626                yes   \n",
       "\n",
       "  voice mail plan  number vmail messages  total day minutes  total day calls  \\\n",
       "0             yes                     25              265.1              110   \n",
       "1             yes                     26              161.6              123   \n",
       "2              no                      0              243.4              114   \n",
       "3              no                      0              299.4               71   \n",
       "4              no                      0              166.7              113   \n",
       "\n",
       "   total day charge  ...  total eve calls  total eve charge  \\\n",
       "0             45.07  ...               99             16.78   \n",
       "1             27.47  ...              103             16.62   \n",
       "2             41.38  ...              110             10.30   \n",
       "3             50.90  ...               88              5.26   \n",
       "4             28.34  ...              122             12.61   \n",
       "\n",
       "   total night minutes  total night calls  total night charge  \\\n",
       "0                244.7                 91               11.01   \n",
       "1                254.4                103               11.45   \n",
       "2                162.6                104                7.32   \n",
       "3                196.9                 89                8.86   \n",
       "4                186.9                121                8.41   \n",
       "\n",
       "   total intl minutes  total intl calls  total intl charge  \\\n",
       "0                10.0                 3               2.70   \n",
       "1                13.7                 3               3.70   \n",
       "2                12.2                 5               3.29   \n",
       "3                 6.6                 7               1.78   \n",
       "4                10.1                 3               2.73   \n",
       "\n",
       "   customer service calls  churn  \n",
       "0                       1  False  \n",
       "1                       1  False  \n",
       "2                       0  False  \n",
       "3                       2  False  \n",
       "4                       3  False  \n",
       "\n",
       "[5 rows x 21 columns]"
      ]
     },
     "execution_count": 3,
     "metadata": {},
     "output_type": "execute_result"
    }
   ],
   "source": [
    "# Glance at the first five records \n",
    "dataset.head() "
   ]
  },
  {
   "cell_type": "code",
   "execution_count": 5,
   "id": "02e8ea96",
   "metadata": {},
   "outputs": [
    {
     "data": {
      "text/plain": [
       "Index(['state', 'account length', 'area code', 'phone number',\n",
       "       'international plan', 'voice mail plan', 'number vmail messages',\n",
       "       'total day minutes', 'total day calls', 'total day charge',\n",
       "       'total eve minutes', 'total eve calls', 'total eve charge',\n",
       "       'total night minutes', 'total night calls', 'total night charge',\n",
       "       'total intl minutes', 'total intl calls', 'total intl charge',\n",
       "       'customer service calls', 'churn'],\n",
       "      dtype='object')"
      ]
     },
     "execution_count": 5,
     "metadata": {},
     "output_type": "execute_result"
    }
   ],
   "source": [
    "# Print all the features of the data \n",
    "dataset.columns "
   ]
  },
  {
   "cell_type": "markdown",
   "id": "2a3e9b84",
   "metadata": {},
   "source": [
    "Exploratory Data Analysis on Telco Churn Dataset\n",
    "\n",
    "Code : To find the number of churners and non-churners in the dataset:"
   ]
  },
  {
   "cell_type": "code",
   "execution_count": 8,
   "id": "0ae09238",
   "metadata": {},
   "outputs": [
    {
     "data": {
      "text/plain": [
       "False    2850\n",
       "True      483\n",
       "Name: churn, dtype: int64"
      ]
     },
     "execution_count": 8,
     "metadata": {},
     "output_type": "execute_result"
    }
   ],
   "source": [
    "# Churners vs Non-Churners \n",
    "dataset['churn'].value_counts() \n"
   ]
  },
  {
   "cell_type": "markdown",
   "id": "a20c751d",
   "metadata": {},
   "source": [
    "\n",
    "Code: To group data by Churn and compute the mean to find out if churners make more customer service calls than non-churners:"
   ]
  },
  {
   "cell_type": "code",
   "execution_count": 11,
   "id": "7309c173",
   "metadata": {},
   "outputs": [
    {
     "name": "stdout",
     "output_type": "stream",
     "text": [
      "churn\n",
      "False    1.449825\n",
      "True     2.229814\n",
      "Name: customer service calls, dtype: float64\n"
     ]
    }
   ],
   "source": [
    "# Group data by 'Churn' and compute the mean \n",
    "print(dataset.groupby('churn')['customer service calls'].mean()) \n"
   ]
  },
  {
   "cell_type": "markdown",
   "id": "c9f55c6f",
   "metadata": {},
   "source": [
    "Yes! Perhaps unsurprisingly, churners seem to make more customer service calls than non-churners.\n",
    "\n",
    "Code: To find out if one State has more churners compared to another."
   ]
  },
  {
   "cell_type": "code",
   "execution_count": 13,
   "id": "c3b10cff",
   "metadata": {},
   "outputs": [
    {
     "name": "stdout",
     "output_type": "stream",
     "text": [
      "state  churn\n",
      "AK     False    49\n",
      "       True      3\n",
      "AL     False    72\n",
      "       True      8\n",
      "AR     False    44\n",
      "                ..\n",
      "WI     True      7\n",
      "WV     False    96\n",
      "       True     10\n",
      "WY     False    68\n",
      "       True      9\n",
      "Name: churn, Length: 102, dtype: int64\n"
     ]
    }
   ],
   "source": [
    "# Count the number of churners and non-churners by State \n",
    "print(dataset.groupby('state')['churn'].value_counts()) \n"
   ]
  },
  {
   "cell_type": "markdown",
   "id": "e505f08e",
   "metadata": {},
   "source": [
    "While California is the most populous state in the U.S, there are not as many customers from California in our dataset. Arizona (AZ), for example, has 64 customers, 4 of whom ended up churning. In comparison, California has a higher number (and percentage) of customers who churned. This is useful information for a company."
   ]
  },
  {
   "cell_type": "markdown",
   "id": "d4b4eee4",
   "metadata": {},
   "source": [
    "# Exploring Data Visualizations : To understand how variables are distributed."
   ]
  },
  {
   "cell_type": "code",
   "execution_count": 15,
   "id": "a7f139a0",
   "metadata": {},
   "outputs": [
    {
     "data": {
      "image/png": "[encoded data removed]",
      "text/plain": [
       "<Figure size 640x480 with 1 Axes>"
      ]
     },
     "metadata": {},
     "output_type": "display_data"
    }
   ],
   "source": [
    "# Import matplotlib and seaborn \n",
    "import matplotlib.pyplot as plt \n",
    "import seaborn as sns \n",
    "\n",
    "# Visualize the distribution of 'Total day minutes' \n",
    "plt.hist(dataset['total day minutes'], bins = 100) \n",
    "\n",
    "# Display the plot \n",
    "plt.show() \n"
   ]
  },
  {
   "cell_type": "markdown",
   "id": "ee68d2c6",
   "metadata": {},
   "source": [
    "Code: To visualize the difference in Customer service calls between churners and non-churners"
   ]
  },
  {
   "cell_type": "code",
   "execution_count": 16,
   "id": "26d7f2b6",
   "metadata": {},
   "outputs": [
    {
     "data": {
      "image/png": "[encoded data removed]",
      "text/plain": [
       "<Figure size 640x480 with 1 Axes>"
      ]
     },
     "metadata": {},
     "output_type": "display_data"
    }
   ],
   "source": [
    "# Create the box plot \n",
    "sns.boxplot(x = 'churn', \n",
    "\t\t\ty = 'customer service calls', \n",
    "\t\t\tdata = dataset, \n",
    "\t\t\tsym = \"\",\t\t\t\t \n",
    "\t\t\thue = \"international plan\") \n",
    "# Display the plot \n",
    "plt.show() \n"
   ]
  },
  {
   "cell_type": "markdown",
   "id": "5b8fd3c2",
   "metadata": {},
   "source": [
    "It looks like customers who do churn end up leaving more customer service calls unless these customers also have an international plan, in which case they leave fewer customer service calls. This type of information is really useful in better understanding the drivers of churn. It’s now time to learn about how to preprocess your data prior to modelling.\n",
    "\n",
    "Data Preprocessing for Telco Churn Dataset\n",
    "\n",
    "Many Machine Learning models make certain assumptions about how the data is distributed. Some of the assumptions are as follows:\n",
    "\n",
    "The features are normally distributed\n",
    "The features are on the same scale\n",
    "The datatypes of features are numeric\n",
    "In telco churn data, Churn, Voice mail plan, and, International plan, in particular, are binary features that can easily be converted into 0’s and 1’s."
   ]
  },
  {
   "cell_type": "code",
   "execution_count": 17,
   "id": "7da8720d",
   "metadata": {},
   "outputs": [],
   "source": [
    "# Features and Labels \n",
    "X = dataset.iloc[:, 0:19].values \n",
    "y = dataset.iloc[:, 19].values # Churn \n",
    "\n",
    "# Encoding categorical data in X \n",
    "from sklearn.preprocessing import LabelEncoder \n",
    "\n",
    "labelencoder_X_1 = LabelEncoder() \n",
    "X[:, 3] = labelencoder_X_1.fit_transform(X[:, 3]) \n",
    "\n",
    "labelencoder_X_2 = LabelEncoder() \n",
    "X[:, 4] = labelencoder_X_2.fit_transform(X[:, 4]) \n",
    "\n",
    "# Encoding categorical data in y \n",
    "labelencoder_y = LabelEncoder() \n",
    "y = labelencoder_y.fit_transform(y) \n"
   ]
  },
  {
   "cell_type": "markdown",
   "id": "88c2fa29",
   "metadata": {},
   "source": [
    "Code: Encoding State feature using One hot encoding"
   ]
  },
  {
   "cell_type": "code",
   "execution_count": 18,
   "id": "5880e259",
   "metadata": {},
   "outputs": [],
   "source": [
    "# Removing extra column to avoid dummy variable trap \n",
    "X_State = pd.get_dummies(X[:, 0], drop_first = True) \n",
    "\n",
    "# Converting X to a dataframe \n",
    "X = pd.DataFrame(X) \n",
    "\n",
    "# Dropping the 'State' column \n",
    "X = X.drop([0], axis = 1) \n",
    "\n",
    "# Merging two dataframes \n",
    "frames = [X_State, X] \n",
    "result = pd.concat(frames, axis = 1, ignore_index = True) \n",
    "\n",
    "# Final dataset with all numeric features \n",
    "X = result \n"
   ]
  },
  {
   "cell_type": "markdown",
   "id": "0db134c9",
   "metadata": {},
   "source": [
    "Code : To Create Training and Test sets"
   ]
  },
  {
   "cell_type": "code",
   "execution_count": 19,
   "id": "b410ce94",
   "metadata": {},
   "outputs": [],
   "source": [
    "# Splitting the dataset into the Training and Test sets \n",
    "from sklearn.model_selection import train_test_split \n",
    "X_train, X_test, y_train, y_test = train_test_split(X, y, \n",
    "\t\t\t\t\t\t\t\t\t\t\t\t\ttest_size = 0.2, \n",
    "\t\t\t\t\t\t\t\t\t\t\t\t\trandom_state = 0) \n"
   ]
  },
  {
   "cell_type": "markdown",
   "id": "140bd687",
   "metadata": {},
   "source": [
    "Code: To scale features of the training and test sets"
   ]
  },
  {
   "cell_type": "markdown",
   "id": "1c60c42a",
   "metadata": {},
   "source": [
    "Code: To train a Random Forest classifier model on the training set."
   ]
  },
  {
   "cell_type": "code",
   "execution_count": null,
   "id": "1f84dc4f",
   "metadata": {},
   "outputs": [],
   "source": []
  }
 ],
 "metadata": {
  "kernelspec": {
   "display_name": "Python 3 (ipykernel)",
   "language": "python",
   "name": "python3"
  },
  "language_info": {
   "codemirror_mode": {
    "name": "ipython",
    "version": 3
   },
   "file_extension": ".py",
   "mimetype": "text/x-python",
   "name": "python",
   "nbconvert_exporter": "python",
   "pygments_lexer": "ipython3",
   "version": "3.11.5"
  }
 },
 "nbformat": 4,
 "nbformat_minor": 5
}
